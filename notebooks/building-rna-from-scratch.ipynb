{
 "cells": [
  {
   "cell_type": "markdown",
   "metadata": {},
   "source": [
    "# **Building a Neural Network from Scratch**\n",
    "The goal of this tutorial is to outline the necessary steps to build an Artificial Neural Network (ANN) from the ground up, explaining in theory the various elements required for its construction, training, and practical application. To achieve this, we will implement a Feedforward Neural Network, where information flows from the network's input layers, stimulating the network's neurons, and producing an output.\n",
    "\n",
    "The following topics will be covered:"
   ]
  },
  {
   "cell_type": "markdown",
   "metadata": {},
   "source": [
    "# **Table of Contents**\n",
    "- [1 - Environment Preparation](#1)\n",
    "- [2 - Layer Initialization](#2)\n",
    "- [3 - Parameter Initialization](#3)\n",
    "- [4 - Implementing Forward Propagation](#4)\n",
    "- [5 - Cost Computation](#5)\n",
    "- [6 - Implementing Backward Propagation](#6)\n",
    "- [7 - Parameter Update (Gradient Descent)](#7)\n",
    "- [8 - Model Training](#8)\n",
    "- [9 - Prediction](#9)"
   ]
  },
  {
   "cell_type": "markdown",
   "metadata": {},
   "source": [
    "<a name='1'></a>\n",
    "# **1.- Environment Setup**\n",
    "First, all the necessary libraries for the implementation are installed and imported.\n",
    "\n",
    "## 1.1.- Library Installation\n",
    "Primarily, `numpy` and `matplotlib` will be used for some visualizations:"
   ]
  },
  {
   "cell_type": "code",
   "execution_count": 1,
   "metadata": {},
   "outputs": [],
   "source": [
    "%%capture\n",
    "%pip install numpy\n",
    "%pip install matplotlib\n",
    "%pip install --upgrade jupyter\n",
    "%pip install --upgrade notebook\n",
    "%pip install jupyterlab"
   ]
  },
  {
   "cell_type": "markdown",
   "metadata": {},
   "source": [
    "Before proceeding with the construction of the neural network, it is important to check that the GPU is available for use. To do this, the following function from the `Tensorflow` library can be used:"
   ]
  },
  {
   "cell_type": "code",
   "execution_count": 2,
   "metadata": {},
   "outputs": [
    {
     "name": "stderr",
     "output_type": "stream",
     "text": [
      "2024-08-29 16:04:44.063003: E external/local_xla/xla/stream_executor/cuda/cuda_fft.cc:485] Unable to register cuFFT factory: Attempting to register factory for plugin cuFFT when one has already been registered\n",
      "2024-08-29 16:04:44.175236: E external/local_xla/xla/stream_executor/cuda/cuda_dnn.cc:8454] Unable to register cuDNN factory: Attempting to register factory for plugin cuDNN when one has already been registered\n",
      "2024-08-29 16:04:44.207161: E external/local_xla/xla/stream_executor/cuda/cuda_blas.cc:1452] Unable to register cuBLAS factory: Attempting to register factory for plugin cuBLAS when one has already been registered\n",
      "2024-08-29 16:04:44.414708: I tensorflow/core/platform/cpu_feature_guard.cc:210] This TensorFlow binary is optimized to use available CPU instructions in performance-critical operations.\n",
      "To enable the following instructions: AVX2 FMA, in other operations, rebuild TensorFlow with the appropriate compiler flags.\n"
     ]
    },
    {
     "name": "stdout",
     "output_type": "stream",
     "text": [
      "Num GPUs Available:  1\n"
     ]
    },
    {
     "name": "stderr",
     "output_type": "stream",
     "text": [
      "WARNING: All log messages before absl::InitializeLog() is called are written to STDERR\n",
      "I0000 00:00:1724947487.557571     630 cuda_executor.cc:1001] could not open file to read NUMA node: /sys/bus/pci/devices/0000:07:00.0/numa_node\n",
      "Your kernel may have been built without NUMA support.\n",
      "I0000 00:00:1724947487.639426     630 cuda_executor.cc:1001] could not open file to read NUMA node: /sys/bus/pci/devices/0000:07:00.0/numa_node\n",
      "Your kernel may have been built without NUMA support.\n",
      "I0000 00:00:1724947487.639471     630 cuda_executor.cc:1001] could not open file to read NUMA node: /sys/bus/pci/devices/0000:07:00.0/numa_node\n",
      "Your kernel may have been built without NUMA support.\n"
     ]
    }
   ],
   "source": [
    "import tensorflow as tf\n",
    "print(\"Num GPUs Available: \", len(tf.config.list_physical_devices('GPU')))"
   ]
  },
  {
   "cell_type": "markdown",
   "metadata": {},
   "source": [
    "We can see that a graphics card is reported as available."
   ]
  },
  {
   "cell_type": "markdown",
   "metadata": {},
   "source": [
    "## 1.2.- Libraries Initalization\n",
    "Once installed, the libraries are initialized:"
   ]
  },
  {
   "cell_type": "code",
   "execution_count": 3,
   "metadata": {},
   "outputs": [],
   "source": [
    "import numpy as np\n",
    "import matplotlib.pyplot as plt\n",
    "import tensorflow as tf\n",
    "import os\n",
    "\n",
    "os.chdir('/app/functions')\n",
    "\n",
    "# I will also import activation functions, which are crucial for correct working of the net\n",
    "from activation_functions import relu, sigmoid, sigmoid_backward, relu_backward\n",
    "\n",
    "os.chdir('/app/notebooks')"
   ]
  },
  {
   "cell_type": "markdown",
   "metadata": {},
   "source": [
    "## 1.3.- Loading the Dataset\n",
    "For training the neural network, we will use the CIFAR-10 dataset. This dataset consists of 60,000 color images, each of size 32x32, categorized into 10 classes (with 6,000 images per class). The data is divided into 50,000 training images and 10,000 test images. The classes are: 'Airplane', 'Car', 'Bird', 'Cat', 'Deer', 'Dog', 'Frog', 'Horse', 'Ship', 'Truck'."
   ]
  },
  {
   "cell_type": "code",
   "execution_count": 4,
   "metadata": {},
   "outputs": [],
   "source": [
    "(x_train, y_train), (x_test, y_test) = tf.keras.datasets.cifar10.load_data()"
   ]
  },
  {
   "cell_type": "markdown",
   "metadata": {},
   "source": [
    "By extracting the images from the TensorFlow library, we will distinguish between the training dataset (x_train) and its corresponding labels (y_train), and the test data. However, to input the images into our neural network, all images need to be flattened (into a single vector) and standardized.\n",
    "\n",
    "Moreover, since the objective is to solve a binary classification task, we will filter for only 2 classes. We will focus on distinguishing between 'Truck' and 'Frog'."
   ]
  },
  {
   "cell_type": "code",
   "execution_count": 5,
   "metadata": {},
   "outputs": [
    {
     "name": "stdout",
     "output_type": "stream",
     "text": [
      "TRAIN - The dimensions of the images are now  (3072, 10000)\n",
      "TEST - The dimensions of the images are now  (3072, 2000)\n"
     ]
    }
   ],
   "source": [
    "# Filtering training and test data\n",
    "train_indices = np.where((y_train == 9) | (y_train == 6))[0]\n",
    "x_train = x_train[train_indices]\n",
    "y_train = y_train[train_indices]\n",
    "y_train = np.where(y_train == 9, 0, 1)\n",
    "\n",
    "test_indices = np.where((y_test == 9) | (y_test == 6))[0]\n",
    "x_test = x_test[test_indices]\n",
    "y_test = y_test[test_indices]\n",
    "y_test = np.where(y_test == 9, 0, 1)\n",
    "\n",
    "# Flattening the training and test images\n",
    "x_train_flattened = x_train.reshape(x_train.shape[0], -1).T\n",
    "x_test_flattened = x_test.reshape(x_test.shape[0], -1).T\n",
    "\n",
    "# Standardizing the pixels\n",
    "x_train_flattened_standardized = x_train_flattened / 255.0\n",
    "x_test_flattened_standardized = x_test_flattened / 255.0\n",
    "\n",
    "# Displaying the new dimensions of the images\n",
    "print(\"TRAIN - The dimensions of the images are now \", str(x_train_flattened_standardized.shape))\n",
    "print(\"TEST - The dimensions of the images are now \", str(x_test_flattened_standardized.shape))"
   ]
  },
  {
   "cell_type": "markdown",
   "metadata": {},
   "source": [
    "Knowing the size of the dataset, I visualize an initial example of the data:"
   ]
  },
  {
   "cell_type": "code",
   "execution_count": 6,
   "metadata": {},
   "outputs": [],
   "source": [
    "def visualize_image(dataset, index_image):\n",
    "    plt.figure(figsize=(5,5))\n",
    "    \n",
    "    # Remove axis labels\n",
    "    plt.xticks([])\n",
    "    plt.yticks([])\n",
    "    plt.grid(False)\n",
    "    plt.imshow(dataset[index_image])\n",
    "    plt.show()"
   ]
  },
  {
   "cell_type": "markdown",
   "metadata": {},
   "source": [
    "Let's use the method:"
   ]
  },
  {
   "cell_type": "code",
   "execution_count": 7,
   "metadata": {},
   "outputs": [
    {
     "data": {
      "image/png": "[encoded data removed]",
      "text/plain": [
       "<Figure size 500x500 with 1 Axes>"
      ]
     },
     "metadata": {},
     "output_type": "display_data"
    }
   ],
   "source": [
    "visualize_image(x_test, 0)"
   ]
  },
  {
   "cell_type": "markdown",
   "metadata": {},
   "source": [
    "<a name='2'></a>\n",
    "# **2.- Initialization of Layers**\n",
    "First, some parameters of the network must be decided, which will allow us to create its architecture. These parameters include the number of hidden layers and the number of neurons in each layer."
   ]
  },
  {
   "cell_type": "code",
   "execution_count": 8,
   "metadata": {},
   "outputs": [],
   "source": [
    "def init_layers(X, Y, num_hidden_layers, num_hidden_units):\n",
    "    \"\"\"_summary_\n",
    "    This method defines the structure of the neural network by specifying the number of neurons in the input layer (which is determined by the size of the dataset used),\n",
    "    the number of hidden layers specified by an input parameter, the number of neurons in each of these hidden layers, and finally, the number of neurons in the output layer \n",
    "    (determined by the size of the target variable).\n",
    "\n",
    "    It is understood that this is building a Deep Neural Network where all hidden layers have the same number of neurons.\n",
    "\n",
    "    Args:\n",
    "        X (class 'numpy.ndarray'): input dataset (input size, number of examples)\n",
    "        Y (class 'numpy.ndarray'): labels (output size, number of examples)\n",
    "        num_hidden_layers (class 'int'): number of hidden layers of the network\n",
    "        num_hidden_units (class 'list'): list containing number of nodes per layer.    \n",
    "    \n",
    "    Returns:\n",
    "        dim_layers (class 'list'): list containing number of nodes per layer, incluiding input and output layers.\n",
    "    \"\"\"\n",
    "\n",
    "    # Define an array to store the network layer structure\n",
    "    dim_layers = []\n",
    "\n",
    "    # Define the number of neurons in the input layer\n",
    "    input_units = X.shape[1]*X.shape[2]*X.shape[3]\n",
    "\n",
    "    # Add the first layer, in this case, the input layer\n",
    "    dim_layers.append(input_units)\n",
    "\n",
    "    # Iterate over the number of hidden layers\n",
    "    for i in range(0,num_hidden_layers):\n",
    "        dim_layers.append(num_hidden_units[i])\n",
    "\n",
    "    # Finally, add the output layer\n",
    "    output_units = Y.shape[1]\n",
    "    dim_layers.append(output_units)\n",
    "\n",
    "    return dim_layers"
   ]
  },
  {
   "cell_type": "markdown",
   "metadata": {},
   "source": [
    "We use the method to initialize the network structure:"
   ]
  },
  {
   "cell_type": "code",
   "execution_count": 9,
   "metadata": {},
   "outputs": [],
   "source": [
    "rna = init_layers(X = x_train, Y = y_train, num_hidden_layers = 3, num_hidden_units = [2000, 800, 100])"
   ]
  },
  {
   "cell_type": "markdown",
   "metadata": {},
   "source": [
    "<a name='3'></a>\n",
    "# **3.- Parameter Initialization**\n",
    "This method allows us to initialize the parameters for a neural network with `l` layers. Both weights and biases will be initialized using this method. Dimensions will be as follows:\n",
    "$$Weights, W = (n^{[l]}, n^{[l-1]})$$\n",
    "$$Bias, b = (n^{[l]}, 1)$$\n",
    "This means, Weights matrix will have one row for every node in the layer initialized and one column for every node of the previous layer. What about the first layer? Well, we'll have:\n",
    "* ${n^{[l]} = }$ num. of nodes in the actual layer.\n",
    "* ${n^{[l-1]} = }$ num. of pixels in input images.\n",
    "\n",
    "Also, what about the values? Well:\n",
    "\n",
    "* $Weights, W$: it is important to initialize all weights to small random values. The technique used in this example is the `He Initialization`, that takes into account the non-linearity of activation functions, reducing the magnitudes of input signals exponentially. In this initialization method, we'll multiply small random values with $\\sqrt{\\frac{2}{\\text{dimension of the previous layer}}}$, which is what He initialization recommends for layers with a ReLU activation.\n",
    "\n",
    "* $Bias, b$: these can be initialized with small random positive values or zeros. In this example, we've used zeros."
   ]
  },
  {
   "cell_type": "code",
   "execution_count": 10,
   "metadata": {},
   "outputs": [],
   "source": [
    "import numpy as np\n",
    "\n",
    "def init_parameters(dims_layers):\n",
    "    \"\"\"_summary_\n",
    "    This function initializes the parameters of the Neural Network based on the structure defined in the previous function.\n",
    "\n",
    "    Args:\n",
    "        dims_layers (class 'list'): list containing number of nodes per layer, incluiding input and output layers.\n",
    "\n",
    "    Returns:\n",
    "        parameters (class 'dict'): dictionary consisting of the set of initialized parameters in the network.\n",
    "    \"\"\"\n",
    "\n",
    "    # Create a dictionary to store the parameters\n",
    "    parameters = {}\n",
    "\n",
    "    for num_capa in range(1, len(dims_layers)):\n",
    "        # For each layer, create the corresponding weight matrix and bias.\n",
    "        parameters['W' + str(num_capa)] = np.random.randn(dims_layers[num_capa], dims_layers[num_capa-1]) * (np.sqrt(2/dims_layers[num_capa-1]))\n",
    "        parameters['b' + str(num_capa)] = np.zeros((dims_layers[num_capa], 1))\n",
    "\n",
    "    # Return the initialized parameters\n",
    "    return parameters"
   ]
  },
  {
   "cell_type": "markdown",
   "metadata": {},
   "source": [
    "<a name='4'></a>\n",
    "# **4.- Implementation of 'Forward Propagation'**\n",
    "To implement forward propagation, the following calculations need to be performed:\n",
    "* Calculation of the pre-activation parameters.\n",
    "* Calculation of the activation of the neurons."
   ]
  },
  {
   "cell_type": "markdown",
   "metadata": {},
   "source": [
    "## 4.1.- Pre-Activation Parameters\n",
    "This method calculates the parameters that are input into the neuron's activation function. The equation used is:\n",
    "\n",
    "$$Z^{[l]} = W^{[l]}A^{[l-1]} + b^{[l]}\\$$\n",
    "\n",
    "where ${[l]}$ denotes the layer number; $W^{[l]}$ represents the current weights of the current layer; $A^{[l-1]}$ is the activation of the previous layer; and $b^{[l]}$ is the bias of the layer."
   ]
  },
  {
   "cell_type": "code",
   "execution_count": 11,
   "metadata": {},
   "outputs": [],
   "source": [
    "import numpy as np\n",
    "\n",
    "def pre_activation(A, W, b):\n",
    "    \"\"\"_summary_\n",
    "    This function calculates the pre-activation parameters of a layer.\n",
    "    \n",
    "    Args:\n",
    "        A (class 'numpy.ndarray'): consists of the activations obtained from the previous layer.\n",
    "        W (class 'numpy.ndarray'): consists of the current weights of the layer.\n",
    "        b (class 'numpy.ndarray'): consists of the current bias of the layer.\n",
    "\n",
    "    Returns:\n",
    "        Z (class 'numpy.ndarray'): consists of the pre-activation params. obtained.\n",
    "        pre_activation_params (class 'tuple'): tuple containing A, W, b, stored to speed up network training.\n",
    "    \"\"\"\n",
    "\n",
    "    # Calculate the pre-activation parameters\n",
    "    Z = np.dot(W,A) + b\n",
    "\n",
    "    # Create a Python tuple stored in cache to speed up network training, as these parameters will be used later\n",
    "    pre_activation_params = (A, W, b)\n",
    "\n",
    "    return Z, pre_activation_params"
   ]
  },
  {
   "cell_type": "markdown",
   "metadata": {},
   "source": [
    "## 4.2.- Calculation of Layer Activation\n",
    "Based on the pre-activation parameters calculated earlier, the appropriate activation function must be applied to the resulting matrix. In this case, all hidden layers will use the ReLU activation function, while the output layer will employ the sigmoid function.\n",
    "$$A^{[l]} = g(Z^{[l]}) = g(W^{[l]}A^{[l-1]} +b^{[l]})$$\n",
    "where `g()` can be a Sigmoid or ReLU function: "
   ]
  },
  {
   "cell_type": "code",
   "execution_count": 12,
   "metadata": {},
   "outputs": [],
   "source": [
    "def forward_activation(dataset, parameters):\n",
    "    \"\"\"_summary_\n",
    "    Function that computes the activation of a layer.\n",
    "\n",
    "    Args:\n",
    "        dataset (class 'numpy.ndarray'): Input data. Used to determine the number of neurons in the input layer.\n",
    "        parameters (class 'dict'): Python dictionary with the initialized parameters based on the network structure: weights and biases.\n",
    "\n",
    "    Returns:\n",
    "        AL (class 'numpy.ndarray'): Activation of the final layer.\n",
    "        cache (class 'list'): Tuple containing the activation of the previous layer (A_prev), weights of the current layer (W), and bias (b).\n",
    "    \"\"\"\n",
    "\n",
    "    # Store the results in cache to speed up network training\n",
    "    caches = []\n",
    "\n",
    "    # Number of hidden layers\n",
    "    hidden_layers = len(parameters) // 2\n",
    "\n",
    "    # For the first layer, activation functions are the input data\n",
    "    A = dataset\n",
    "\n",
    "    # Compute activation for hidden layers\n",
    "    for num_layer in range(1, hidden_layers):\n",
    "        Z, pre_activation_params = pre_activation(A, parameters['W' + str(num_layer)], parameters['b' + str(num_layer)])\n",
    "        A, cache = relu(Z)\n",
    "        cache = (pre_activation_params, cache)\n",
    "        caches.append(cache)\n",
    "    \n",
    "    # Compute activation for the final layer\n",
    "    Z, pre_activation_params = pre_activation(A, parameters['W' + str(hidden_layers)], parameters['b' + str(hidden_layers)])\n",
    "    AL, cache = sigmoid(Z)\n",
    "    cache = (pre_activation_params, cache)\n",
    "    caches.append(cache)\n",
    "    \n",
    "    return AL, caches"
   ]
  },
  {
   "cell_type": "markdown",
   "metadata": {},
   "source": [
    "<a name='5'></a>\n",
    "# **5.- Computation of Loss**\n",
    "At this point, the activation of each layer has already been computed, so we just need to compute the cost. The cost defines the error between the model's predictions and the actual labels of the dataset. To ensure that our model is learning correctly, the cost should decrease at each stage of training.\n",
    "\n",
    "Since we are working with a binary classification problem, we will use binary cross-entropy as the loss function. However, it is important to note that different loss functions can be used depending on the problem being addressed or the metric that is prioritized for optimization.\n",
    "\n",
    "<!--  -->\n",
    "$$-\\frac{1}{m} \\sum\\limits_{i = 1}^{m} (y^{(i)}\\log\\left(a^{[L] (i)}\\right) + (1-y^{(i)})\\log\\left(1- a^{[L](i)}\\right)) \\$$\n",
    "\n",
    "\n",
    "Below is the implementation:"
   ]
  },
  {
   "cell_type": "code",
   "execution_count": 15,
   "metadata": {},
   "outputs": [],
   "source": [
    "def cost_function(predictions, Y):\n",
    "    \"\"\"_summary_\n",
    "    Function that calculates the error between the model's predictions and the correct labels.\n",
    "\n",
    "    Args:\n",
    "        predictions (class 'numpy.ndarray'): network predictions.\n",
    "        Y (class 'numpy.ndarray'): true labels.\n",
    "\n",
    "    Returns:\n",
    "        cost (class 'numpy.float64'): error obtained from network predictions compared to true labels.\n",
    "    \"\"\"\n",
    "\n",
    "    # Calculate the loss function\n",
    "    cost = - np.mean( Y * np.log(predictions) + (1-Y) * np.log(1-predictions)) \n",
    "\n",
    "    cost = np.squeeze(cost) \n",
    "\n",
    "    return cost"
   ]
  },
  {
   "cell_type": "markdown",
   "metadata": {},
   "source": [
    "<a name='6'></a>\n",
    "# **6.- Implementation of Backward Propagation**\n",
    "\n",
    "The backpropagation algorithm enables the information about the cost obtained during forward propagation to be propagated backward (in the opposite direction of forward propagation) with the goal of computing the gradient. It is important to distinguish this process from parameter updates, which are carried out by another algorithm, such as stochastic gradient descent.\n",
    "\n",
    "## 6.1.- Linear backward activation\n",
    "To implement backward propagation, multiple calculations will be necessary. First, the linear activation, starting from the activation of the last layer:\n",
    "\n",
    "Having the derivative `dZ`:\n",
    "\n",
    "$$dW^{[l]} = \\frac{\\partial \\mathcal{J} }{\\partial W^{[l]}} = \\frac{1}{m} dZ^{[l]} A^{[l-1] T} \\$$\n",
    "\n",
    "\n",
    "$$db^{[l]} = \\frac{\\partial \\mathcal{J} }{\\partial b^{[l]}} = \\frac{1}{m} \\sum_{i = 1}^{m} dZ^{[l](i)} \\$$\n",
    "\n",
    "\n",
    "$$dA^{[l-1]} = \\frac{\\partial \\mathcal{L} }{\\partial A^{[l-1]}} = W^{[l] T} dZ^{[l]} \\$$\n",
    "\n",
    "where `m` is the number of examples of the batch."
   ]
  },
  {
   "cell_type": "code",
   "execution_count": 16,
   "metadata": {},
   "outputs": [],
   "source": [
    "def linear_backward(dZ, cache):\n",
    "    \"\"\"_summary_\n",
    "    Function to compute the backward propagation for a single layer.\n",
    "    \n",
    "    Args:\n",
    "        dZ (class 'numpy.ndarray'): Gradient of the cost with respect to the output.\n",
    "        cache (class 'tuple'): Activation values from the previous layer (A_prev), weights (W), and bias (b) of the current layer.\n",
    "    \n",
    "    Returns:\n",
    "        dA_prev (class 'numpy.ndarray'): derivatives obtained from activations of prev. layer\n",
    "        dW (class 'numpy.ndarray'): derivatives obtained from weights of actual layer.\n",
    "        db (class 'numpy.ndarray'): derivatives obtained from bias of actual layer.\n",
    "    \"\"\"\n",
    "\n",
    "    # Retrieve values from the cache\n",
    "    A_prev, W, b = cache\n",
    "\n",
    "    # Get the number of examples\n",
    "    num_examples = A_prev.shape[1]\n",
    "\n",
    "    # Calculate gradients with respect to W, b, and the activation layer\n",
    "    dW = (1/num_examples) * np.dot(dZ, np.transpose(A_prev))\n",
    "    db = (1/num_examples) * np.sum(dZ, axis=1, keepdims=True)\n",
    "    dA_prev = np.dot(np.transpose(W), dZ)\n",
    "\n",
    "    assert (dA_prev.shape == A_prev.shape)\n",
    "    assert (dW.shape == W.shape)\n",
    "    assert (db.shape == b.shape)\n",
    "\n",
    "    return dA_prev, dW, db"
   ]
  },
  {
   "cell_type": "markdown",
   "metadata": {},
   "source": [
    "## 6.2.- Implementation of Backward Propagation\n",
    "Finally, the complete backward propagation method is implemented:"
   ]
  },
  {
   "cell_type": "code",
   "execution_count": 17,
   "metadata": {},
   "outputs": [],
   "source": [
    "def backward_propagation(dZ, Y, cache):\n",
    "    \"\"\"_summary_\n",
    "    Function that implements 'backward propagation' for a single layer.\n",
    "\n",
    "    Args:\n",
    "        dZ (class 'numpy.ndarray'): Gradient of the cost with respect to the output.\n",
    "        Y (class 'numpy.ndarray'): true labels.\n",
    "        cache (class 'list'): Tuple containing the activation of the previous layer (A_prev), weights of the current layer (W), and bias (b).\n",
    "\n",
    "    Return:\n",
    "        gradients (class 'dict'): Python dictionary containing the gradients for each layer.\n",
    "    \"\"\"\n",
    "    # Initialize the gradient vector\n",
    "    gradients = {}\n",
    "\n",
    "    # The number of layers can be determined directly from the number of caches\n",
    "    num_layers = len(cache)\n",
    "\n",
    "    Y = Y.reshape(dZ.shape)\n",
    "    \n",
    "    # To avoid logarithms and divisions by 0\n",
    "    epsilon = 1e-15\n",
    "    AL = np.clip(dZ, epsilon, 1 - epsilon)\n",
    "\n",
    "    # Initialize backward propagation by calculating the derivative of the final activation layer\n",
    "    dAL = -(np.divide(Y, AL) - np.divide(1 - Y, 1 - AL))\n",
    "    \n",
    "    # Start with the final layer, from which parameters can be obtained using the 'linear_activation_backward' function\n",
    "    cache_actual = cache[num_layers-1]\n",
    "    linear_cache, activation_cache = cache_actual\n",
    "    dZ = sigmoid_backward(dAL, activation_cache)\n",
    "    dA_prev, dW, db = linear_backward(dZ, linear_cache)\n",
    "    gradients['dA'+str(num_layers-1)] = dA_prev\n",
    "    gradients['dW'+str(num_layers)] = dW\n",
    "    gradients['db'+str(num_layers)] = db\n",
    "\n",
    "    # Iterate from the last layer to the first, i.e., in reverse order\n",
    "    for num_layer in reversed(range(num_layers-1)):\n",
    "        # Retrieve the cache for the layer\n",
    "        cache_actual = cache[num_layer]\n",
    "        linear_cache, activation_cache = cache_actual\n",
    "\n",
    "        # Calculate the backward linear activation\n",
    "        dZ = relu_backward(gradients['dA'+str(num_layer+1)], activation_cache)\n",
    "        dA_prev, dW, db = linear_backward(dZ, linear_cache)\n",
    "        gradients['dA'+str(num_layer)] = dA_prev\n",
    "        gradients['dW'+str(num_layer+1)] = dW\n",
    "        gradients['db'+str(num_layer+1)] = db\n",
    "\n",
    "    return gradients"
   ]
  },
  {
   "cell_type": "markdown",
   "metadata": {},
   "source": [
    "<a name='7'></a>\n",
    "# **7.- Parameter Update (Gradient Descent)**\n",
    "Once the backward propagation has been computed for the weights and biases of each layer in the network, the parameters need to be updated using the learning rate. This rate determines how aggressively each parameter will be adjusted.\n",
    "$$ W^{[l]} = W^{[l]} - \\alpha \\text{ } dW^{[l]} \\$$\n",
    "$$ b^{[l]} = b^{[l]} - \\alpha \\text{ } db^{[l]} \\$$\n",
    "where $\\alpha$ is the parameter learning rate."
   ]
  },
  {
   "cell_type": "code",
   "execution_count": 18,
   "metadata": {},
   "outputs": [],
   "source": [
    "import copy\n",
    "\n",
    "def update_parameters(parameters, gradients, lrate):\n",
    "    \"\"\"_summary_\n",
    "    Function that updates parameters using gradient descent.\n",
    "\n",
    "    Args:\n",
    "        parameters (class 'dict'): dictionary consisting of the set of initialized parameters in the network.\n",
    "        gradients (class 'dict'): Python dictionary containing the gradients for each layer.\n",
    "        lrate (class 'numpy.float64'): learning rate value.\n",
    "\n",
    "    Returns:\n",
    "        params (class 'dict'): dictionary consisting of the set of updated parameters in the network.\n",
    "    \"\"\"\n",
    "    params = copy.deepcopy(parameters)\n",
    "    \n",
    "    # Number of hidden layers\n",
    "    hidden_layers = len(params) // 2\n",
    "    \n",
    "    # Update the parameters across the entire network\n",
    "    for num_layer in range(hidden_layers):\n",
    "        params[\"W\" + str(num_layer+1)] = params[\"W\" + str(num_layer+1)] - lrate * gradients['dW' + str(num_layer+1)]\n",
    "        params[\"b\" + str(num_layer+1)] = params[\"b\" + str(num_layer+1)] - lrate * gradients['db' + str(num_layer+1)]\n",
    "        \n",
    "    # Return the updated parameters (weights and bias)\n",
    "    return params"
   ]
  },
  {
   "cell_type": "markdown",
   "metadata": {},
   "source": [
    "<a name='8'></a>\n",
    "# **8.- Training the Model**\n",
    "Finally, the network training process begins. The process of forwarding information through the entire network, calculating gradients, and updating parameters will be repeated for a specified number of iterations: `num_iterations`. The error for each iteration will be returned for both the training set, from which the network learns, and the validation set, which is not used to compute gradients or update parameters. Thus, the network will be evaluated in each iteration with \"unseen\" data."
   ]
  },
  {
   "cell_type": "code",
   "execution_count": 19,
   "metadata": {},
   "outputs": [],
   "source": [
    "def train_model(X, Y, val_x, val_y, model, lrate, num_iterations):\n",
    "    \"\"\"_summary_\n",
    "    Function that optimize the neural network.\n",
    "\n",
    "    Args:\n",
    "        X (class 'numpy.ndarray'): training dataset.\n",
    "        Y (class 'numpy.ndarray'): training labels.\n",
    "        val_x (class 'numpy.ndarray'): validation dataset.\n",
    "        val_y (class 'numpy.ndarray'): validation labels.\n",
    "        model (class 'list'): list containing number of nodes per layer, including input and output layers.\n",
    "        lrate (class 'numpy.float64'): learning rate value.\n",
    "        num_iterations (class 'int'): number of training iterations through dataset.\n",
    "\n",
    "    Returns:\n",
    "        parameters (class 'dict'): dictionary consisting of the set of updated parameters from the network after training.\n",
    "        loss_train (class 'list'): list of training error progression throughout optimization.\n",
    "        loss_val (class 'list'): list of validation error progression throughout optimization.\n",
    "        error (class 'numpy.float64'): error obtained on the last iteration, which means the error of the network with training dataset.\n",
    "    \"\"\"\n",
    "\n",
    "    gradients = {}\n",
    "    \n",
    "    # To store the error after each iteration\n",
    "    loss_train = []\n",
    "    loss_val = []\n",
    "\n",
    "    # Adjust the shape of the labels\n",
    "    Y = Y.T\n",
    "    val_y = val_y.T\n",
    "\n",
    "    # 1.- Initialize the parameters\n",
    "    parameters = init_parameters(model)\n",
    "\n",
    "    # 2.- Training iteration\n",
    "    for i in range(0, num_iterations):\n",
    "        \n",
    "        # First, call 'forward_activation'\n",
    "        AL, cache = forward_activation(X, parameters)\n",
    "        \n",
    "        # For validation:\n",
    "        AL_val, cache_val = forward_activation(val_x, parameters)\n",
    "\n",
    "        # Adapt the predictions to avoid errors when calculating logarithms\n",
    "        epsilon = 1e-15\n",
    "        AL = np.clip(AL, epsilon, 1 - epsilon)\n",
    "        \n",
    "        # Compute the current error\n",
    "        error = cost_function(AL, Y)\n",
    "        val_error = cost_function(AL_val, val_y)\n",
    "\n",
    "        # Initialize 'backward propagation'\n",
    "        gradients = backward_propagation(AL, Y, cache)\n",
    "        \n",
    "        # Update the parameters to accelerate training\n",
    "        parameters = update_parameters(parameters, gradients, lrate)\n",
    "\n",
    "        # Display the error in the console\n",
    "        print(\"Epoch \", i, \" --- Training Error: \", error, \" --- Val. Error: \", val_error)\n",
    "        \n",
    "        # Save the error of the iteration\n",
    "        loss_train.append(error)\n",
    "        loss_val.append(val_error)\n",
    "    \n",
    "    # Return the network parameters after training\n",
    "    return parameters, loss_train, loss_val, error"
   ]
  },
  {
   "cell_type": "markdown",
   "metadata": {},
   "source": [
    "Let's run the method:"
   ]
  },
  {
   "cell_type": "code",
   "execution_count": 20,
   "metadata": {},
   "outputs": [
    {
     "name": "stdout",
     "output_type": "stream",
     "text": [
      "Epoch  0  --- Training Error:  0.8500716377865228  --- Val. Error:  0.8587394430667517\n",
      "Epoch  1  --- Training Error:  0.9853685646688842  --- Val. Error:  0.9939569493006509\n",
      "Epoch  2  --- Training Error:  0.9232865388896638  --- Val. Error:  0.9370473546154416\n",
      "Epoch  3  --- Training Error:  0.6806662401270008  --- Val. Error:  0.6865924141118418\n",
      "Epoch  4  --- Training Error:  0.5890640132622397  --- Val. Error:  0.5960462589282138\n",
      "Epoch  5  --- Training Error:  0.5556989971423054  --- Val. Error:  0.5619904752815831\n",
      "Epoch  6  --- Training Error:  0.5324737098186558  --- Val. Error:  0.5391811064577016\n",
      "Epoch  7  --- Training Error:  0.514620022549121  --- Val. Error:  0.5213964390687288\n",
      "Epoch  8  --- Training Error:  0.4992835165441495  --- Val. Error:  0.5064654783861438\n",
      "Epoch  9  --- Training Error:  0.4863913853854665  --- Val. Error:  0.49363671612068827\n",
      "Epoch  10  --- Training Error:  0.47512206430597237  --- Val. Error:  0.4826864494766095\n",
      "Epoch  11  --- Training Error:  0.46579241448163783  --- Val. Error:  0.47312194168799265\n",
      "Epoch  12  --- Training Error:  0.45814135661339117  --- Val. Error:  0.4657173212381365\n",
      "Epoch  13  --- Training Error:  0.4527617378065312  --- Val. Error:  0.4600159824865346\n",
      "Epoch  14  --- Training Error:  0.450320251671388  --- Val. Error:  0.45829554615506857\n",
      "Epoch  15  --- Training Error:  0.451409926206636  --- Val. Error:  0.4589227651285489\n",
      "Epoch  16  --- Training Error:  0.45932498951672607  --- Val. Error:  0.46851453110631247\n",
      "Epoch  17  --- Training Error:  0.47059670535039877  --- Val. Error:  0.4789701049485889\n",
      "Epoch  18  --- Training Error:  0.490521297244473  --- Val. Error:  0.501790128441523\n",
      "Epoch  19  --- Training Error:  0.49827183457329327  --- Val. Error:  0.5076089192622062\n",
      "Epoch  20  --- Training Error:  0.5035399444407044  --- Val. Error:  0.5158486712456132\n",
      "Epoch  21  --- Training Error:  0.49056062719757504  --- Val. Error:  0.5000597665349553\n",
      "Epoch  22  --- Training Error:  0.470904552221553  --- Val. Error:  0.48240125705930154\n",
      "Epoch  23  --- Training Error:  0.4573216099035739  --- Val. Error:  0.46625725323510375\n",
      "Epoch  24  --- Training Error:  0.4449997804548172  --- Val. Error:  0.4556212343112602\n",
      "Epoch  25  --- Training Error:  0.43440180951391083  --- Val. Error:  0.44293022225473805\n",
      "Epoch  26  --- Training Error:  0.42624956528585134  --- Val. Error:  0.43629034117157317\n",
      "Epoch  27  --- Training Error:  0.41912152095609373  --- Val. Error:  0.4273879832029975\n",
      "Epoch  28  --- Training Error:  0.41441191727842386  --- Val. Error:  0.4241022733845042\n",
      "Epoch  29  --- Training Error:  0.4093999411729489  --- Val. Error:  0.4175046047851542\n",
      "Epoch  30  --- Training Error:  0.40637778790439716  --- Val. Error:  0.41587891817530453\n",
      "Epoch  31  --- Training Error:  0.4028669701636235  --- Val. Error:  0.410827970525837\n",
      "Epoch  32  --- Training Error:  0.4010283424898209  --- Val. Error:  0.4104488484712075\n",
      "Epoch  33  --- Training Error:  0.39841938533622767  --- Val. Error:  0.4062599288197417\n",
      "Epoch  34  --- Training Error:  0.3972699977140813  --- Val. Error:  0.40668419341821044\n",
      "Epoch  35  --- Training Error:  0.3953510424626955  --- Val. Error:  0.40310454110116783\n",
      "Epoch  36  --- Training Error:  0.3946672244293012  --- Val. Error:  0.40412402169087475\n",
      "Epoch  37  --- Training Error:  0.3931248593166906  --- Val. Error:  0.400792823061163\n",
      "Epoch  38  --- Training Error:  0.3928932701020769  --- Val. Error:  0.40242897544896866\n",
      "Epoch  39  --- Training Error:  0.3915789187388944  --- Val. Error:  0.3991501978181077\n",
      "Epoch  40  --- Training Error:  0.39157398760119405  --- Val. Error:  0.40120762912715474\n",
      "Epoch  41  --- Training Error:  0.3902327139578017  --- Val. Error:  0.39769986010486036\n",
      "Epoch  42  --- Training Error:  0.39023198633074124  --- Val. Error:  0.39995933898586544\n",
      "Epoch  43  --- Training Error:  0.3888846119343266  --- Val. Error:  0.39624234987198714\n",
      "Epoch  44  --- Training Error:  0.38869958161490187  --- Val. Error:  0.39849318337589873\n",
      "Epoch  45  --- Training Error:  0.38719739116263563  --- Val. Error:  0.39442947939275463\n",
      "Epoch  46  --- Training Error:  0.386890026362396  --- Val. Error:  0.3967322835731089\n",
      "Epoch  47  --- Training Error:  0.38523765269781374  --- Val. Error:  0.3923434760104152\n",
      "Epoch  48  --- Training Error:  0.3846358286194931  --- Val. Error:  0.39449146210720204\n",
      "Epoch  49  --- Training Error:  0.38280717236439094  --- Val. Error:  0.3897927837778476\n",
      "Epoch  50  --- Training Error:  0.38204924643205296  --- Val. Error:  0.3918905566188536\n",
      "Epoch  51  --- Training Error:  0.3801383178966813  --- Val. Error:  0.38700745317497587\n",
      "Epoch  52  --- Training Error:  0.37928346275898617  --- Val. Error:  0.38908706383369257\n",
      "Epoch  53  --- Training Error:  0.3773592098097937  --- Val. Error:  0.3841162459701007\n",
      "Epoch  54  --- Training Error:  0.37648783382987355  --- Val. Error:  0.38624414859816547\n",
      "Epoch  55  --- Training Error:  0.37465653648423974  --- Val. Error:  0.38129597299343154\n",
      "Epoch  56  --- Training Error:  0.3738111647720451  --- Val. Error:  0.38352358881413795\n",
      "Epoch  57  --- Training Error:  0.3720293190885179  --- Val. Error:  0.3785564018269108\n",
      "Epoch  58  --- Training Error:  0.3711923006734366  --- Val. Error:  0.3808565650795\n",
      "Epoch  59  --- Training Error:  0.3694796240739422  --- Val. Error:  0.3758933025073579\n",
      "Epoch  60  --- Training Error:  0.3688202016365901  --- Val. Error:  0.3784392370911503\n",
      "Epoch  61  --- Training Error:  0.3672171182339783  --- Val. Error:  0.3735311344019087\n",
      "Epoch  62  --- Training Error:  0.36659739324034624  --- Val. Error:  0.3761777892505332\n",
      "Epoch  63  --- Training Error:  0.3650842636944383  --- Val. Error:  0.3713148162183245\n",
      "Epoch  64  --- Training Error:  0.36459930531824863  --- Val. Error:  0.37416110046574425\n",
      "Epoch  65  --- Training Error:  0.3632374406691284  --- Val. Error:  0.3693867240774004\n",
      "Epoch  66  --- Training Error:  0.3628504486337749  --- Val. Error:  0.3724026607569986\n",
      "Epoch  67  --- Training Error:  0.36154556037752444  --- Val. Error:  0.3676100092516183\n",
      "Epoch  68  --- Training Error:  0.36121957069978233  --- Val. Error:  0.3707624159805097\n",
      "Epoch  69  --- Training Error:  0.3600511665422017  --- Val. Error:  0.36602985915064123\n",
      "Epoch  70  --- Training Error:  0.3598336929027586  --- Val. Error:  0.3693777887351665\n",
      "Epoch  71  --- Training Error:  0.35878825425048155  --- Val. Error:  0.3646842187594466\n",
      "Epoch  72  --- Training Error:  0.3586171067629321  --- Val. Error:  0.3681695407995089\n",
      "Epoch  73  --- Training Error:  0.3576789720839224  --- Val. Error:  0.36349698262092994\n",
      "Epoch  74  --- Training Error:  0.3575786861270139  --- Val. Error:  0.3671522096329232\n",
      "Epoch  75  --- Training Error:  0.3566375418657589  --- Val. Error:  0.3623817301000679\n",
      "Epoch  76  --- Training Error:  0.356607794055233  --- Val. Error:  0.36619479011778805\n",
      "Epoch  77  --- Training Error:  0.35565633555740567  --- Val. Error:  0.3613413073530721\n",
      "Epoch  78  --- Training Error:  0.35557958554914637  --- Val. Error:  0.36517145936194684\n",
      "Epoch  79  --- Training Error:  0.35461207454256766  --- Val. Error:  0.36023662249300775\n",
      "Epoch  80  --- Training Error:  0.35455477233149907  --- Val. Error:  0.3641510533458005\n",
      "Epoch  81  --- Training Error:  0.35361509250096523  --- Val. Error:  0.3591729672129847\n",
      "Epoch  82  --- Training Error:  0.35356601762966006  --- Val. Error:  0.3631622241873696\n",
      "Epoch  83  --- Training Error:  0.3526326751941857  --- Val. Error:  0.3581267323722522\n",
      "Epoch  84  --- Training Error:  0.3525295859469942  --- Val. Error:  0.36212397717908923\n",
      "Epoch  85  --- Training Error:  0.3515646100873304  --- Val. Error:  0.35699381167412036\n",
      "Epoch  86  --- Training Error:  0.35146654778558933  --- Val. Error:  0.3610555066930349\n",
      "Epoch  87  --- Training Error:  0.35049947105284  --- Val. Error:  0.35586230753476267\n",
      "Epoch  88  --- Training Error:  0.350392985807461  --- Val. Error:  0.3599676056477301\n",
      "Epoch  89  --- Training Error:  0.34942106267308326  --- Val. Error:  0.35471838819203244\n",
      "Epoch  90  --- Training Error:  0.3493357307581659  --- Val. Error:  0.35889669964854554\n",
      "Epoch  91  --- Training Error:  0.3482976309088085  --- Val. Error:  0.3535329911374476\n",
      "Epoch  92  --- Training Error:  0.3481593044844026  --- Val. Error:  0.35769116121938455\n",
      "Epoch  93  --- Training Error:  0.34708629635509636  --- Val. Error:  0.3522663115265288\n",
      "Epoch  94  --- Training Error:  0.3469285484888236  --- Val. Error:  0.35641815842293445\n",
      "Epoch  95  --- Training Error:  0.34583324429397116  --- Val. Error:  0.3509617522709565\n",
      "Epoch  96  --- Training Error:  0.34565457021609575  --- Val. Error:  0.3550933027115827\n",
      "Epoch  97  --- Training Error:  0.3445219900264185  --- Val. Error:  0.34960506687212867\n",
      "Epoch  98  --- Training Error:  0.3443129910439384  --- Val. Error:  0.35369294878162066\n",
      "Epoch  99  --- Training Error:  0.3431490278294477  --- Val. Error:  0.3481820769741072\n",
      "Epoch  100  --- Training Error:  0.34291307828840706  --- Val. Error:  0.35222511119035244\n",
      "Epoch  101  --- Training Error:  0.3418096436724324  --- Val. Error:  0.346790506069883\n",
      "Epoch  102  --- Training Error:  0.34156089309003324  --- Val. Error:  0.35080897918326454\n",
      "Epoch  103  --- Training Error:  0.34052141957891724  --- Val. Error:  0.3454472625806279\n",
      "Epoch  104  --- Training Error:  0.34028352788332605  --- Val. Error:  0.3494682299775016\n",
      "Epoch  105  --- Training Error:  0.3392247573136408  --- Val. Error:  0.344095187443167\n",
      "Epoch  106  --- Training Error:  0.3390250698362273  --- Val. Error:  0.34814524125942925\n",
      "Epoch  107  --- Training Error:  0.3379640768469842  --- Val. Error:  0.3427798124032481\n",
      "Epoch  108  --- Training Error:  0.3377550617149896  --- Val. Error:  0.34680855496394736\n",
      "Epoch  109  --- Training Error:  0.3367713445869377  --- Val. Error:  0.341532711079274\n",
      "Epoch  110  --- Training Error:  0.3365797007380058  --- Val. Error:  0.345576514128526\n",
      "Epoch  111  --- Training Error:  0.335678243909611  --- Val. Error:  0.34038308950440305\n",
      "Epoch  112  --- Training Error:  0.33556064018715626  --- Val. Error:  0.344512953514813\n",
      "Epoch  113  --- Training Error:  0.33470049935264873  --- Val. Error:  0.3393454880418371\n",
      "Epoch  114  --- Training Error:  0.3345900720179182  --- Val. Error:  0.3435017333391561\n",
      "Epoch  115  --- Training Error:  0.3337671168967516  --- Val. Error:  0.33835117385635827\n",
      "Epoch  116  --- Training Error:  0.3337045310664558  --- Val. Error:  0.3425840893300446\n",
      "Epoch  117  --- Training Error:  0.3329192548151489  --- Val. Error:  0.3374428380931746\n",
      "Epoch  118  --- Training Error:  0.3329178108952821  --- Val. Error:  0.3417731889757702\n",
      "Epoch  119  --- Training Error:  0.3321740676240372  --- Val. Error:  0.3366387749410096\n",
      "Epoch  120  --- Training Error:  0.3322138849349372  --- Val. Error:  0.3410540141656735\n",
      "Epoch  121  --- Training Error:  0.3314759307476274  --- Val. Error:  0.3358839353013865\n",
      "Epoch  122  --- Training Error:  0.33151337012153465  --- Val. Error:  0.34033730379617416\n",
      "Epoch  123  --- Training Error:  0.33079851793249115  --- Val. Error:  0.3351484949904981\n",
      "Epoch  124  --- Training Error:  0.3308365786008478  --- Val. Error:  0.3396451942453042\n",
      "Epoch  125  --- Training Error:  0.33010329586519854  --- Val. Error:  0.33439717582881257\n",
      "Epoch  126  --- Training Error:  0.33008993655777874  --- Val. Error:  0.3388707252992918\n",
      "Epoch  127  --- Training Error:  0.32934593958065195  --- Val. Error:  0.3335807714945527\n",
      "Epoch  128  --- Training Error:  0.329367680264291  --- Val. Error:  0.3381198344259577\n",
      "Epoch  129  --- Training Error:  0.32861573860865784  --- Val. Error:  0.33279229208997735\n",
      "Epoch  130  --- Training Error:  0.32857332541239836  --- Val. Error:  0.33728845125381246\n",
      "Epoch  131  --- Training Error:  0.3277798242416481  --- Val. Error:  0.3318970624391889\n",
      "Epoch  132  --- Training Error:  0.32765611103810227  --- Val. Error:  0.33632608861525093\n",
      "Epoch  133  --- Training Error:  0.3268476515020036  --- Val. Error:  0.3309052001830971\n",
      "Epoch  134  --- Training Error:  0.32671707975827297  --- Val. Error:  0.33533820700411154\n",
      "Epoch  135  --- Training Error:  0.3259092813322243  --- Val. Error:  0.32990898155610227\n",
      "Epoch  136  --- Training Error:  0.32576269816301223  --- Val. Error:  0.33433567899161915\n",
      "Epoch  137  --- Training Error:  0.32500461126804886  --- Val. Error:  0.32894264755492897\n",
      "Epoch  138  --- Training Error:  0.32489102608759013  --- Val. Error:  0.3334232099042861\n",
      "Epoch  139  --- Training Error:  0.32417968894406124  --- Val. Error:  0.3280556709711841\n",
      "Epoch  140  --- Training Error:  0.3240734444660479  --- Val. Error:  0.3325718372556054\n",
      "Epoch  141  --- Training Error:  0.3234002267690886  --- Val. Error:  0.32721580417124485\n",
      "Epoch  142  --- Training Error:  0.32332942953966454  --- Val. Error:  0.33179447908126436\n",
      "Epoch  143  --- Training Error:  0.32270732018285125  --- Val. Error:  0.3264618469918339\n",
      "Epoch  144  --- Training Error:  0.3226521351608617  --- Val. Error:  0.3310880628301111\n",
      "Epoch  145  --- Training Error:  0.3220269404077513  --- Val. Error:  0.32572032584286104\n",
      "Epoch  146  --- Training Error:  0.3219579125682374  --- Val. Error:  0.3303640289385312\n",
      "Epoch  147  --- Training Error:  0.32135179913958106  --- Val. Error:  0.3249809606945323\n",
      "Epoch  148  --- Training Error:  0.32125658553916103  --- Val. Error:  0.3296306609191015\n",
      "Epoch  149  --- Training Error:  0.32063187705842355  --- Val. Error:  0.32420036984503964\n",
      "Epoch  150  --- Training Error:  0.32053060675046086  --- Val. Error:  0.32887079722206186\n",
      "Epoch  151  --- Training Error:  0.319925775634359  --- Val. Error:  0.32343369751738565\n",
      "Epoch  152  --- Training Error:  0.31982992240661506  --- Val. Error:  0.32813374556383323\n",
      "Epoch  153  --- Training Error:  0.31924378770444745  --- Val. Error:  0.3226905601467139\n",
      "Epoch  154  --- Training Error:  0.31914463873462334  --- Val. Error:  0.327413734410409\n",
      "Epoch  155  --- Training Error:  0.3185402313093138  --- Val. Error:  0.3219284830965253\n",
      "Epoch  156  --- Training Error:  0.3184436144657766  --- Val. Error:  0.32667651901910655\n",
      "Epoch  157  --- Training Error:  0.3178417952293609  --- Val. Error:  0.3211694307869085\n",
      "Epoch  158  --- Training Error:  0.317754613352529  --- Val. Error:  0.32594948912770816\n",
      "Epoch  159  --- Training Error:  0.3171555781390735  --- Val. Error:  0.32042310612889124\n",
      "Epoch  160  --- Training Error:  0.3170646977470908  --- Val. Error:  0.3252199981198478\n",
      "Epoch  161  --- Training Error:  0.31646021299229105  --- Val. Error:  0.3196693640642379\n",
      "Epoch  162  --- Training Error:  0.3163318601587322  --- Val. Error:  0.32444100432517425\n",
      "Epoch  163  --- Training Error:  0.3157147628381897  --- Val. Error:  0.3188709090260295\n",
      "Epoch  164  --- Training Error:  0.3156020100119599  --- Val. Error:  0.32366455972091135\n",
      "Epoch  165  --- Training Error:  0.31495691549351224  --- Val. Error:  0.3180628963128862\n",
      "Epoch  166  --- Training Error:  0.3148437449587567  --- Val. Error:  0.32285899268776824\n",
      "Epoch  167  --- Training Error:  0.3142381676538756  --- Val. Error:  0.3172889031566071\n",
      "Epoch  168  --- Training Error:  0.31413844359429405  --- Val. Error:  0.32211176657768853\n",
      "Epoch  169  --- Training Error:  0.3135602918290934  --- Val. Error:  0.31655700377065915\n",
      "Epoch  170  --- Training Error:  0.31348568587901987  --- Val. Error:  0.3214217929485299\n",
      "Epoch  171  --- Training Error:  0.3129398102549335  --- Val. Error:  0.3158814895774379\n",
      "Epoch  172  --- Training Error:  0.312881675358304  --- Val. Error:  0.32078454742185675\n",
      "Epoch  173  --- Training Error:  0.31237591544091803  --- Val. Error:  0.3152617846566791\n",
      "Epoch  174  --- Training Error:  0.3123394988212285  --- Val. Error:  0.3202133797983275\n",
      "Epoch  175  --- Training Error:  0.31185844509323235  --- Val. Error:  0.31469152710584114\n",
      "Epoch  176  --- Training Error:  0.31182059262831774  --- Val. Error:  0.31966653963176817\n",
      "Epoch  177  --- Training Error:  0.3113531673761941  --- Val. Error:  0.31413327775110345\n",
      "Epoch  178  --- Training Error:  0.31133206122118035  --- Val. Error:  0.31915169205093946\n",
      "Epoch  179  --- Training Error:  0.31086940253394085  --- Val. Error:  0.31359879564080007\n",
      "Epoch  180  --- Training Error:  0.3107978096115718  --- Val. Error:  0.31858482154882783\n",
      "Epoch  181  --- Training Error:  0.31034332918914964  --- Val. Error:  0.3130199781334518\n",
      "Epoch  182  --- Training Error:  0.31026553029579856  --- Val. Error:  0.31802088467997996\n",
      "Epoch  183  --- Training Error:  0.30981133572883607  --- Val. Error:  0.31243993961376737\n",
      "Epoch  184  --- Training Error:  0.3097062754356767  --- Val. Error:  0.31742663886647754\n",
      "Epoch  185  --- Training Error:  0.30925572150960995  --- Val. Error:  0.31183411957056956\n",
      "Epoch  186  --- Training Error:  0.3091556897536079  --- Val. Error:  0.3168410781170943\n",
      "Epoch  187  --- Training Error:  0.30871493090251484  --- Val. Error:  0.3112443740583359\n",
      "Epoch  188  --- Training Error:  0.30860379802723453  --- Val. Error:  0.3162549568311906\n",
      "Epoch  189  --- Training Error:  0.30819707968045584  --- Val. Error:  0.3106749290266741\n",
      "Epoch  190  --- Training Error:  0.30809780855155705  --- Val. Error:  0.31571860532059315\n",
      "Epoch  191  --- Training Error:  0.30769679392180654  --- Val. Error:  0.3101241239940268\n",
      "Epoch  192  --- Training Error:  0.30756953196999887  --- Val. Error:  0.3151591583881169\n",
      "Epoch  193  --- Training Error:  0.3071745853572881  --- Val. Error:  0.3095517172960394\n",
      "Epoch  194  --- Training Error:  0.3070341456933894  --- Val. Error:  0.3145917547363595\n",
      "Epoch  195  --- Training Error:  0.3066190091846162  --- Val. Error:  0.3089466653517414\n",
      "Epoch  196  --- Training Error:  0.30644476450141794  --- Val. Error:  0.31396267906098047\n",
      "Epoch  197  --- Training Error:  0.30601745600738867  --- Val. Error:  0.30829735202096553\n",
      "Epoch  198  --- Training Error:  0.3058345414969697  --- Val. Error:  0.3133099010885239\n",
      "Epoch  199  --- Training Error:  0.3054100885517549  --- Val. Error:  0.3076437711655119\n"
     ]
    }
   ],
   "source": [
    "parameters, training_loss, validation_loss, error = train_model(x_train_flattened_standardized, y_train, x_test_flattened_standardized, y_test, rna, lrate = 0.01, num_iterations = 200)"
   ]
  },
  {
   "cell_type": "markdown",
   "metadata": {},
   "source": [
    "To evaluate the training, the error reduction across the different stages is displayed:\n",
    "\n",
    "\n",
    "\n",
    "\n",
    "\n",
    "\n",
    "\n"
   ]
  },
  {
   "cell_type": "code",
   "execution_count": 21,
   "metadata": {},
   "outputs": [
    {
     "data": {
      "image/png": "[encoded data removed]",
      "text/plain": [
       "<Figure size 640x480 with 1 Axes>"
      ]
     },
     "metadata": {},
     "output_type": "display_data"
    }
   ],
   "source": [
    "plt.plot(training_loss, label = \"Training error\")\n",
    "plt.plot(validation_loss, label = \"Validation error\")\n",
    "plt.xlabel(\"Num. of epochs\")\n",
    "plt.ylabel(\"Error\")\n",
    "plt.title(\"Error during training\")\n",
    "plt.legend()\n",
    "plt.show()"
   ]
  },
  {
   "cell_type": "markdown",
   "metadata": {},
   "source": [
    "<a name='9'></a>\n",
    "# **9.- Prediction**\n",
    "Once the neural network is designed and trained, the main objective is to make predictions with unseen images. To achieve this, we design the method to evaluate the network:"
   ]
  },
  {
   "cell_type": "code",
   "execution_count": 22,
   "metadata": {},
   "outputs": [],
   "source": [
    "def predict(dataset, parameters, labels):\n",
    "    # Obtain predictions with the current weights\n",
    "    predictions, cache = forward_activation(dataset, parameters)\n",
    "\n",
    "    # Calculate the loss with these predictions\n",
    "    error = cost_function(predictions, labels)\n",
    "\n",
    "    return predictions, error"
   ]
  },
  {
   "cell_type": "markdown",
   "metadata": {},
   "source": [
    "Finally, let's evaluate the ANN with unknown data:"
   ]
  },
  {
   "cell_type": "code",
   "execution_count": 24,
   "metadata": {},
   "outputs": [
    {
     "name": "stdout",
     "output_type": "stream",
     "text": [
      "Error with unknown data:  0.31264615864689455\n"
     ]
    }
   ],
   "source": [
    "predicciones, error_test = predict(x_test_flattened_standardized, parameters, y_test.T)\n",
    "print(\"Error with unknown data: \", error_test)"
   ]
  }
 ],
 "metadata": {
  "kernelspec": {
   "display_name": "Python 3",
   "language": "python",
   "name": "python3"
  },
  "language_info": {
   "codemirror_mode": {
    "name": "ipython",
    "version": 3
   },
   "file_extension": ".py",
   "mimetype": "text/x-python",
   "name": "python",
   "nbconvert_exporter": "python",
   "pygments_lexer": "ipython3",
   "version": "3.11.0rc1"
  }
 },
 "nbformat": 4,
 "nbformat_minor": 2
}
